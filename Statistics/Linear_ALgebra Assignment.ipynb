{
 "cells": [
  {
   "cell_type": "code",
   "execution_count": 1,
   "metadata": {},
   "outputs": [],
   "source": [
    "import numpy as np"
   ]
  },
  {
   "cell_type": "markdown",
   "metadata": {},
   "source": [
    "#### Questions"
   ]
  },
  {
   "cell_type": "markdown",
   "metadata": {},
   "source": [
    "> A. Peform both vector addition and subtraction for the folowing\n",
    "- [2,44,8] and [3,9,22]\n",
    "- [0, 0001] and [-12.8, 09090]\n",
    "\n",
    "> B. Peform bith Scalar-Vector Multiplication and Division for the following:\n",
    "- [4,7,8] and 0.9\n",
    "- [80,9,7,2,1,22,0] and 1\n",
    "\n",
    "> C. Perform both Matrix-Scalar Multiplication and DIvision for the following:\n",
    "- [[2,3,1],[4,1,0]] and 3\n",
    "- [[3,0.1, 80, 9], [7,2,1,22]] and 0.02\n",
    "\n",
    "> D. Perform Matrix-Matrix Multiplication for the following:\n",
    "- [[1,3,2], [2,1,4]] and [[3,0.1,4], [5,1,0]]\n",
    "\n",
    "> E. Generate an identity Matrix of the following shape: \n",
    "-  (8,8)"
   ]
  },
  {
   "cell_type": "markdown",
   "metadata": {},
   "source": [
    "#### Solutions"
   ]
  },
  {
   "cell_type": "markdown",
   "metadata": {},
   "source": [
    "A. "
   ]
  },
  {
   "cell_type": "code",
   "execution_count": 5,
   "metadata": {},
   "outputs": [],
   "source": [
    "add_a1 = np.array([2,44,8]) + np.array([3,9,22])\n",
    "sub_a1 = np.array([2,44,8]) - np.array([3,9,22])"
   ]
  },
  {
   "cell_type": "code",
   "execution_count": 31,
   "metadata": {},
   "outputs": [
    {
     "name": "stdout",
     "output_type": "stream",
     "text": [
      "[ 5 53 30]\n",
      "[ -1  35 -14]\n"
     ]
    }
   ],
   "source": [
    "print(add_a1)\n",
    "print(sub_a1)"
   ]
  },
  {
   "cell_type": "code",
   "execution_count": 6,
   "metadata": {},
   "outputs": [],
   "source": [
    "add_a2 = np.array([0, 1]) + np.array([-12.8, 9090])\n",
    "sub_a2 = np.array([0, 1]) - np.array([-12.8, 9090])"
   ]
  },
  {
   "cell_type": "code",
   "execution_count": 30,
   "metadata": {},
   "outputs": [
    {
     "name": "stdout",
     "output_type": "stream",
     "text": [
      "[ -12.8 9091. ]\n",
      "[   12.8 -9089. ]\n"
     ]
    }
   ],
   "source": [
    "print(add_a2)\n",
    "print(sub_a2)"
   ]
  },
  {
   "cell_type": "markdown",
   "metadata": {},
   "source": [
    "B."
   ]
  },
  {
   "cell_type": "code",
   "execution_count": 28,
   "metadata": {},
   "outputs": [],
   "source": [
    "mul_b1 =    np.array([4,7,8]) * 0.9\n",
    "div_b1 =    np.array([4,7,8])/0.9"
   ]
  },
  {
   "cell_type": "code",
   "execution_count": 29,
   "metadata": {},
   "outputs": [
    {
     "name": "stdout",
     "output_type": "stream",
     "text": [
      "[3.6 6.3 7.2]\n",
      "[4.44444444 7.77777778 8.88888889]\n"
     ]
    }
   ],
   "source": [
    "print(mul_b1)\n",
    "print(div_b1)"
   ]
  },
  {
   "cell_type": "code",
   "execution_count": 9,
   "metadata": {},
   "outputs": [],
   "source": [
    "mul_b2 =   np.array([80,9,7,2,1,22,0]) * 1\n",
    "div_b2 =   np.array([80,9,7,2,1,22,0])/1"
   ]
  },
  {
   "cell_type": "code",
   "execution_count": 26,
   "metadata": {},
   "outputs": [
    {
     "name": "stdout",
     "output_type": "stream",
     "text": [
      "[80  9  7  2  1 22  0]\n",
      "[80.  9.  7.  2.  1. 22.  0.]\n"
     ]
    }
   ],
   "source": [
    "print(mul_b2)\n",
    "print(div_b2)"
   ]
  },
  {
   "cell_type": "markdown",
   "metadata": {},
   "source": [
    "C"
   ]
  },
  {
   "cell_type": "code",
   "execution_count": 13,
   "metadata": {},
   "outputs": [],
   "source": [
    "mul_c1 = np.array([[2,3,1],[4,1,0]]) * 3\n",
    "div_c1 = np.array([[2,3,1],[4,1,0]]) / 3"
   ]
  },
  {
   "cell_type": "code",
   "execution_count": 25,
   "metadata": {},
   "outputs": [
    {
     "name": "stdout",
     "output_type": "stream",
     "text": [
      "[[ 6  9  3]\n",
      " [12  3  0]]\n",
      "[[0.66666667 1.         0.33333333]\n",
      " [1.33333333 0.33333333 0.        ]]\n"
     ]
    }
   ],
   "source": [
    "print(mul_c1)\n",
    "print(div_c1)"
   ]
  },
  {
   "cell_type": "code",
   "execution_count": 14,
   "metadata": {},
   "outputs": [],
   "source": [
    "mul_c2 = np.array([[3,0.1, 80, 9], [7,2,1,22]]) * 0.02\n",
    "div_c2 = np.array([[3,0.1, 80, 9], [7,2,1,22]]) /0.02"
   ]
  },
  {
   "cell_type": "code",
   "execution_count": 23,
   "metadata": {},
   "outputs": [
    {
     "name": "stdout",
     "output_type": "stream",
     "text": [
      "[[0.06  0.002 1.6   0.18 ]\n",
      " [0.14  0.04  0.02  0.44 ]]\n",
      "[[ 150.    5. 4000.  450.]\n",
      " [ 350.  100.   50. 1100.]]\n"
     ]
    }
   ],
   "source": [
    "print(mul_c2)\n",
    "print(div_c2)"
   ]
  },
  {
   "cell_type": "markdown",
   "metadata": {},
   "source": [
    "D"
   ]
  },
  {
   "cell_type": "code",
   "execution_count": 22,
   "metadata": {},
   "outputs": [
    {
     "data": {
      "text/plain": [
       "array([[ 3. ,  0.3,  8. ],\n",
       "       [10. ,  1. ,  0. ]])"
      ]
     },
     "execution_count": 22,
     "metadata": {},
     "output_type": "execute_result"
    }
   ],
   "source": [
    "mul_d= np.array([[1,3,2], [2,1,4]]) * np.array([[3,0.1,4], [5,1,0]])\n",
    "mul_d"
   ]
  },
  {
   "cell_type": "markdown",
   "metadata": {},
   "source": [
    "E"
   ]
  },
  {
   "cell_type": "code",
   "execution_count": 21,
   "metadata": {},
   "outputs": [
    {
     "data": {
      "text/plain": [
       "array([[1., 0., 0., 0., 0., 0., 0., 0.],\n",
       "       [0., 1., 0., 0., 0., 0., 0., 0.],\n",
       "       [0., 0., 1., 0., 0., 0., 0., 0.],\n",
       "       [0., 0., 0., 1., 0., 0., 0., 0.],\n",
       "       [0., 0., 0., 0., 1., 0., 0., 0.],\n",
       "       [0., 0., 0., 0., 0., 1., 0., 0.],\n",
       "       [0., 0., 0., 0., 0., 0., 1., 0.],\n",
       "       [0., 0., 0., 0., 0., 0., 0., 1.]])"
      ]
     },
     "execution_count": 21,
     "metadata": {},
     "output_type": "execute_result"
    }
   ],
   "source": [
    "e_eye = np.eye(8,8)\n",
    "e_eye"
   ]
  },
  {
   "cell_type": "code",
   "execution_count": null,
   "metadata": {},
   "outputs": [],
   "source": []
  }
 ],
 "metadata": {
  "kernelspec": {
   "display_name": "Python 3",
   "language": "python",
   "name": "python3"
  },
  "language_info": {
   "codemirror_mode": {
    "name": "ipython",
    "version": 3
   },
   "file_extension": ".py",
   "mimetype": "text/x-python",
   "name": "python",
   "nbconvert_exporter": "python",
   "pygments_lexer": "ipython3",
   "version": "3.6.9"
  }
 },
 "nbformat": 4,
 "nbformat_minor": 4
}
